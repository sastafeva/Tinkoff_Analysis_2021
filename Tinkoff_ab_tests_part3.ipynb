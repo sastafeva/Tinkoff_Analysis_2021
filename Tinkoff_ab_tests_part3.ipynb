{
 "cells": [
  {
   "cell_type": "markdown",
   "metadata": {},
   "source": [
    "# Курс от Тинькофф \"Анализ данных в индустрии\""
   ]
  },
  {
   "cell_type": "markdown",
   "metadata": {},
   "source": [
    "## Домашнее задание. АБ-тесты. Часть 3."
   ]
  },
  {
   "cell_type": "code",
   "execution_count": 1,
   "metadata": {},
   "outputs": [],
   "source": [
    "import pandas as pd\n",
    "import numpy as np\n",
    "from scipy import stats\n",
    "\n",
    "from statsmodels.stats import weightstats as stests\n",
    "import matplotlib.pyplot as plt\n",
    "\n",
    "# Для красивых графиков\n",
    "import seaborn as sns\n",
    "sns.set(style=\"whitegrid\", font_scale=1.4)"
   ]
  },
  {
   "cell_type": "markdown",
   "metadata": {},
   "source": [
    "### Задание 1"
   ]
  },
  {
   "cell_type": "markdown",
   "metadata": {},
   "source": [
    "В файле **test_1.csv** лежит результат теста. (target - какая-то целевая метрика)\n",
    "\n",
    "Изучите результаты теста и сделайте вывод (проверяем гипотезу о равенстве средних). В качестве решения - ноутбук, в котором построено распределение параметра target в группах и проверены нужные критерии."
   ]
  },
  {
   "cell_type": "code",
   "execution_count": 2,
   "metadata": {},
   "outputs": [
    {
     "name": "stdout",
     "output_type": "stream",
     "text": [
      "<class 'pandas.core.frame.DataFrame'>\n",
      "RangeIndex: 1998 entries, 0 to 1997\n",
      "Data columns (total 3 columns):\n",
      "group        1998 non-null object\n",
      "client_id    1998 non-null int64\n",
      "target       1998 non-null float64\n",
      "dtypes: float64(1), int64(1), object(1)\n",
      "memory usage: 47.0+ KB\n"
     ]
    }
   ],
   "source": [
    "# Загрузим данные\n",
    "data1 = pd.read_csv('test_1.csv')\n",
    "data1.info()"
   ]
  },
  {
   "cell_type": "code",
   "execution_count": 3,
   "metadata": {},
   "outputs": [
    {
     "data": {
      "text/html": [
       "<div>\n",
       "<style scoped>\n",
       "    .dataframe tbody tr th:only-of-type {\n",
       "        vertical-align: middle;\n",
       "    }\n",
       "\n",
       "    .dataframe tbody tr th {\n",
       "        vertical-align: top;\n",
       "    }\n",
       "\n",
       "    .dataframe thead th {\n",
       "        text-align: right;\n",
       "    }\n",
       "</style>\n",
       "<table border=\"1\" class=\"dataframe\">\n",
       "  <thead>\n",
       "    <tr style=\"text-align: right;\">\n",
       "      <th></th>\n",
       "      <th>group</th>\n",
       "      <th>client_id</th>\n",
       "      <th>target</th>\n",
       "    </tr>\n",
       "  </thead>\n",
       "  <tbody>\n",
       "    <tr>\n",
       "      <td>243</td>\n",
       "      <td>test</td>\n",
       "      <td>244</td>\n",
       "      <td>50.288187</td>\n",
       "    </tr>\n",
       "    <tr>\n",
       "      <td>468</td>\n",
       "      <td>test</td>\n",
       "      <td>469</td>\n",
       "      <td>52.422348</td>\n",
       "    </tr>\n",
       "    <tr>\n",
       "      <td>1858</td>\n",
       "      <td>control</td>\n",
       "      <td>1859</td>\n",
       "      <td>51.197074</td>\n",
       "    </tr>\n",
       "    <tr>\n",
       "      <td>350</td>\n",
       "      <td>test</td>\n",
       "      <td>351</td>\n",
       "      <td>49.151507</td>\n",
       "    </tr>\n",
       "    <tr>\n",
       "      <td>241</td>\n",
       "      <td>test</td>\n",
       "      <td>242</td>\n",
       "      <td>51.918330</td>\n",
       "    </tr>\n",
       "    <tr>\n",
       "      <td>381</td>\n",
       "      <td>test</td>\n",
       "      <td>382</td>\n",
       "      <td>49.440251</td>\n",
       "    </tr>\n",
       "    <tr>\n",
       "      <td>1877</td>\n",
       "      <td>control</td>\n",
       "      <td>1878</td>\n",
       "      <td>52.467123</td>\n",
       "    </tr>\n",
       "    <tr>\n",
       "      <td>209</td>\n",
       "      <td>test</td>\n",
       "      <td>210</td>\n",
       "      <td>41.987265</td>\n",
       "    </tr>\n",
       "    <tr>\n",
       "      <td>1472</td>\n",
       "      <td>control</td>\n",
       "      <td>1473</td>\n",
       "      <td>53.588474</td>\n",
       "    </tr>\n",
       "    <tr>\n",
       "      <td>111</td>\n",
       "      <td>test</td>\n",
       "      <td>112</td>\n",
       "      <td>45.834090</td>\n",
       "    </tr>\n",
       "  </tbody>\n",
       "</table>\n",
       "</div>"
      ],
      "text/plain": [
       "        group  client_id     target\n",
       "243      test        244  50.288187\n",
       "468      test        469  52.422348\n",
       "1858  control       1859  51.197074\n",
       "350      test        351  49.151507\n",
       "241      test        242  51.918330\n",
       "381      test        382  49.440251\n",
       "1877  control       1878  52.467123\n",
       "209      test        210  41.987265\n",
       "1472  control       1473  53.588474\n",
       "111      test        112  45.834090"
      ]
     },
     "execution_count": 3,
     "metadata": {},
     "output_type": "execute_result"
    }
   ],
   "source": [
    "# Посмотрим, как они выглядят\n",
    "data1.sample(10)"
   ]
  },
  {
   "cell_type": "code",
   "execution_count": 4,
   "metadata": {},
   "outputs": [
    {
     "data": {
      "text/plain": [
       "(1010,)"
      ]
     },
     "execution_count": 4,
     "metadata": {},
     "output_type": "execute_result"
    }
   ],
   "source": [
    "# Выделим таргет для тестовой группы\n",
    "test_target = data1[data1.group == 'test'].target.to_numpy()\n",
    "test_target.shape"
   ]
  },
  {
   "cell_type": "code",
   "execution_count": 5,
   "metadata": {},
   "outputs": [
    {
     "data": {
      "text/plain": [
       "(988,)"
      ]
     },
     "execution_count": 5,
     "metadata": {},
     "output_type": "execute_result"
    }
   ],
   "source": [
    "# Выделим таргет для контрольной группы\n",
    "control_target = data1[data1.group == 'control'].target.to_numpy()\n",
    "control_target.shape"
   ]
  },
  {
   "cell_type": "code",
   "execution_count": 6,
   "metadata": {},
   "outputs": [
    {
     "data": {
      "text/plain": [
       "(1998,)"
      ]
     },
     "execution_count": 6,
     "metadata": {},
     "output_type": "execute_result"
    }
   ],
   "source": [
    "# Проверим, зависимые выборки или нет\n",
    "data1.client_id.unique().shape"
   ]
  },
  {
   "cell_type": "markdown",
   "metadata": {},
   "source": [
    "Получается, что для каждой строки данных id клиента уникален, значит в тестовой и контрольной выборке клиенты разные, выборки независимы"
   ]
  },
  {
   "cell_type": "markdown",
   "metadata": {},
   "source": [
    "Построим графики распределения"
   ]
  },
  {
   "cell_type": "code",
   "execution_count": 7,
   "metadata": {},
   "outputs": [
    {
     "data": {
      "image/png": "[encoded data removed]",
      "text/plain": [
       "<Figure size 1080x360 with 1 Axes>"
      ]
     },
     "metadata": {
      "needs_background": "light"
     },
     "output_type": "display_data"
    }
   ],
   "source": [
    "plt.figure(figsize=(15,5))\n",
    "plt.hist(control_target, bins=50, density=True, color='blue', alpha=0.7, label ='контрольная выборка')\n",
    "plt.hist(test_target, bins=50, density=True, color='red', alpha=0.7, label ='тестовая выборка')\n",
    "plt.legend()\n",
    "plt.title('Распределение целевой переменной в контрольной и тестовой выборках')\n",
    "plt.xlabel('таргет')\n",
    "plt.ylabel('Частота таргета')\n",
    "plt.show()"
   ]
  },
  {
   "cell_type": "markdown",
   "metadata": {},
   "source": [
    "По графикам видно, что распределения довольно близки к нормальному, но тестовая выборка имеет смещение вправо, в сторону более низких значений таргета. "
   ]
  },
  {
   "cell_type": "markdown",
   "metadata": {},
   "source": [
    "Построим $QQ-plot$"
   ]
  },
  {
   "cell_type": "code",
   "execution_count": 8,
   "metadata": {},
   "outputs": [
    {
     "data": {
      "image/png": "[encoded data removed]",
      "text/plain": [
       "<Figure size 1080x360 with 2 Axes>"
      ]
     },
     "metadata": {
      "needs_background": "light"
     },
     "output_type": "display_data"
    }
   ],
   "source": [
    "plt.figure(figsize=(15,5))\n",
    "plt.subplot(2,2,1)\n",
    "stats.probplot(control_target, dist=\"norm\", plot=plt)\n",
    "plt.title('QQ-plot для контрольной выборки')\n",
    "plt.subplot(2,2,2)\n",
    "stats.probplot(test_target, dist=\"norm\", plot=plt)\n",
    "plt.title('QQ-plot для тестовой выборки')\n",
    "plt.show()"
   ]
  },
  {
   "cell_type": "markdown",
   "metadata": {},
   "source": [
    "Очевидно, что выборки взяты из нормального распределения"
   ]
  },
  {
   "cell_type": "markdown",
   "metadata": {},
   "source": [
    "$H_0: \\mu_1 = \\mu_0$\\\n",
    "$H_1: \\mu_1 \\neq \\mu_0$ (Будем проверять двухстороннюю гипотезу).\\\n",
    "Рассчитаем $Z$-критерий для двух независимых выборок\n",
    "\n",
    "$$ Z (X_n) = \\frac{\\bar{X}_1 - \\bar{X}_2}{\\sqrt{\\frac{\\sigma_1^2}{n_1} + \\frac{\\sigma_2^2}{n_2}}}$$\n"
   ]
  },
  {
   "cell_type": "code",
   "execution_count": 23,
   "metadata": {},
   "outputs": [
    {
     "name": "stdout",
     "output_type": "stream",
     "text": [
      "Z-статистика =  9.87942\n"
     ]
    }
   ],
   "source": [
    "# Поскольку выборки имеют разные дисперсии и размер, нельзя использовать функцию ztest из модуля stests.\n",
    "# Рассчитаем статистику вручную по формуле.\n",
    "diff_mean = control_target.mean() - test_target.mean()\n",
    "disp_sqrt = np.sqrt((control_target.var(ddof=1) / control_target.shape[0]) + \n",
    "                    (test_target.var(ddof=1) / test_target.shape[0]))\n",
    "\n",
    "z_stat = diff_mean / disp_sqrt\n",
    "\n",
    "print('Z-статистика = ', round(z_stat, 5))"
   ]
  },
  {
   "cell_type": "markdown",
   "metadata": {},
   "source": [
    "Посчитаем p-value"
   ]
  },
  {
   "cell_type": "code",
   "execution_count": 27,
   "metadata": {},
   "outputs": [
    {
     "name": "stdout",
     "output_type": "stream",
     "text": [
      "p-value two-sided: 0.0\n"
     ]
    }
   ],
   "source": [
    "p_val = 2*(1-stats.norm.cdf(abs(z_stat)))\n",
    "print('p-value two-sided:', p_val)"
   ]
  },
  {
   "cell_type": "markdown",
   "metadata": {},
   "source": [
    "Можно с уверенностью отвергнуть гипотезу о равенстве средних (на уровне значимости менее 0.01). Среднее в тестовой выборке отличается от среднего в контрольной."
   ]
  },
  {
   "cell_type": "markdown",
   "metadata": {},
   "source": [
    "### Задание 2"
   ]
  },
  {
   "cell_type": "markdown",
   "metadata": {},
   "source": [
    "В файле **test_2.csv** лежит результат теста, который был нацелен на увеличение суммы чека клиента. \n",
    "\n",
    "Изучите результаты теста и сделайте вывод, увеличилась сумма чека или нет. В качестве решения - ноутбук, в котором построено распределение параметра в группах и проверены нужные критерии."
   ]
  },
  {
   "cell_type": "code",
   "execution_count": 28,
   "metadata": {},
   "outputs": [
    {
     "name": "stdout",
     "output_type": "stream",
     "text": [
      "<class 'pandas.core.frame.DataFrame'>\n",
      "RangeIndex: 600 entries, 0 to 599\n",
      "Data columns (total 3 columns):\n",
      "group        600 non-null object\n",
      "client_id    600 non-null int64\n",
      "avg_sum      600 non-null float64\n",
      "dtypes: float64(1), int64(1), object(1)\n",
      "memory usage: 14.2+ KB\n"
     ]
    }
   ],
   "source": [
    "# Загрузим данные\n",
    "data2 = pd.read_csv('test_2.csv')\n",
    "data2.info()"
   ]
  },
  {
   "cell_type": "code",
   "execution_count": 29,
   "metadata": {},
   "outputs": [
    {
     "data": {
      "text/html": [
       "<div>\n",
       "<style scoped>\n",
       "    .dataframe tbody tr th:only-of-type {\n",
       "        vertical-align: middle;\n",
       "    }\n",
       "\n",
       "    .dataframe tbody tr th {\n",
       "        vertical-align: top;\n",
       "    }\n",
       "\n",
       "    .dataframe thead th {\n",
       "        text-align: right;\n",
       "    }\n",
       "</style>\n",
       "<table border=\"1\" class=\"dataframe\">\n",
       "  <thead>\n",
       "    <tr style=\"text-align: right;\">\n",
       "      <th></th>\n",
       "      <th>group</th>\n",
       "      <th>client_id</th>\n",
       "      <th>avg_sum</th>\n",
       "    </tr>\n",
       "  </thead>\n",
       "  <tbody>\n",
       "    <tr>\n",
       "      <td>508</td>\n",
       "      <td>control</td>\n",
       "      <td>509</td>\n",
       "      <td>87.557346</td>\n",
       "    </tr>\n",
       "    <tr>\n",
       "      <td>223</td>\n",
       "      <td>test</td>\n",
       "      <td>224</td>\n",
       "      <td>88.980279</td>\n",
       "    </tr>\n",
       "    <tr>\n",
       "      <td>164</td>\n",
       "      <td>test</td>\n",
       "      <td>165</td>\n",
       "      <td>88.537719</td>\n",
       "    </tr>\n",
       "    <tr>\n",
       "      <td>348</td>\n",
       "      <td>control</td>\n",
       "      <td>349</td>\n",
       "      <td>182.073534</td>\n",
       "    </tr>\n",
       "    <tr>\n",
       "      <td>390</td>\n",
       "      <td>control</td>\n",
       "      <td>391</td>\n",
       "      <td>84.099133</td>\n",
       "    </tr>\n",
       "    <tr>\n",
       "      <td>7</td>\n",
       "      <td>test</td>\n",
       "      <td>8</td>\n",
       "      <td>160.388500</td>\n",
       "    </tr>\n",
       "    <tr>\n",
       "      <td>383</td>\n",
       "      <td>control</td>\n",
       "      <td>384</td>\n",
       "      <td>263.307127</td>\n",
       "    </tr>\n",
       "    <tr>\n",
       "      <td>446</td>\n",
       "      <td>control</td>\n",
       "      <td>447</td>\n",
       "      <td>15.395380</td>\n",
       "    </tr>\n",
       "    <tr>\n",
       "      <td>165</td>\n",
       "      <td>test</td>\n",
       "      <td>166</td>\n",
       "      <td>754.816458</td>\n",
       "    </tr>\n",
       "    <tr>\n",
       "      <td>427</td>\n",
       "      <td>control</td>\n",
       "      <td>428</td>\n",
       "      <td>71.838640</td>\n",
       "    </tr>\n",
       "  </tbody>\n",
       "</table>\n",
       "</div>"
      ],
      "text/plain": [
       "       group  client_id     avg_sum\n",
       "508  control        509   87.557346\n",
       "223     test        224   88.980279\n",
       "164     test        165   88.537719\n",
       "348  control        349  182.073534\n",
       "390  control        391   84.099133\n",
       "7       test          8  160.388500\n",
       "383  control        384  263.307127\n",
       "446  control        447   15.395380\n",
       "165     test        166  754.816458\n",
       "427  control        428   71.838640"
      ]
     },
     "execution_count": 29,
     "metadata": {},
     "output_type": "execute_result"
    }
   ],
   "source": [
    "# Посмотрим, как они выглядят\n",
    "data2.sample(10)"
   ]
  },
  {
   "cell_type": "code",
   "execution_count": 30,
   "metadata": {},
   "outputs": [
    {
     "data": {
      "text/plain": [
       "(306,)"
      ]
     },
     "execution_count": 30,
     "metadata": {},
     "output_type": "execute_result"
    }
   ],
   "source": [
    "# Выделим таргет для тестовой группы\n",
    "test_sum = data2[data2.group == 'test'].avg_sum.to_numpy()\n",
    "test_sum.shape"
   ]
  },
  {
   "cell_type": "code",
   "execution_count": 31,
   "metadata": {},
   "outputs": [
    {
     "data": {
      "text/plain": [
       "(294,)"
      ]
     },
     "execution_count": 31,
     "metadata": {},
     "output_type": "execute_result"
    }
   ],
   "source": [
    "# Выделим таргет для контрольной группы\n",
    "control_sum = data2[data2.group == 'control'].avg_sum.to_numpy()\n",
    "control_sum.shape"
   ]
  },
  {
   "cell_type": "code",
   "execution_count": 33,
   "metadata": {},
   "outputs": [
    {
     "data": {
      "text/plain": [
       "(600,)"
      ]
     },
     "execution_count": 33,
     "metadata": {},
     "output_type": "execute_result"
    }
   ],
   "source": [
    "# Проверим, зависимые выборки или нет\n",
    "data2.client_id.unique().shape"
   ]
  },
  {
   "cell_type": "markdown",
   "metadata": {},
   "source": [
    "Получается, что для каждой строки данных id клиента уникален, значит в тестовой и контрольной выборке клиенты разные, выборки независимы"
   ]
  },
  {
   "cell_type": "markdown",
   "metadata": {},
   "source": [
    "Построим графики распределения"
   ]
  },
  {
   "cell_type": "code",
   "execution_count": 34,
   "metadata": {},
   "outputs": [
    {
     "data": {
      "image/png": "[encoded data removed]",
      "text/plain": [
       "<Figure size 1080x360 with 1 Axes>"
      ]
     },
     "metadata": {
      "needs_background": "light"
     },
     "output_type": "display_data"
    }
   ],
   "source": [
    "plt.figure(figsize=(15,5))\n",
    "plt.hist(control_sum, bins=50, density=True, color='blue', alpha=0.7, label ='контрольная выборка')\n",
    "plt.hist(test_sum, bins=50, density=True, color='red', alpha=0.7, label ='тестовая выборка')\n",
    "plt.legend()\n",
    "plt.title('Распределение суммы чека в контрольной и тестовой выборках')\n",
    "plt.xlabel('Сумма чека')\n",
    "plt.ylabel('Частота')\n",
    "plt.show()"
   ]
  },
  {
   "cell_type": "markdown",
   "metadata": {},
   "source": [
    "Оба распределения похожи на экспоненциальные. Это стоит проверить."
   ]
  },
  {
   "cell_type": "markdown",
   "metadata": {},
   "source": [
    "Выполним тест Колмогорова-Смирнова. Сравним тестовое и контрольное распределение с нормальным и экспоненциальным"
   ]
  },
  {
   "cell_type": "markdown",
   "metadata": {},
   "source": [
    "$H_0$: Случайная величина выборки взята из генеральной совокупности с распределением F\n",
    "    \n",
    "$H_1$: Случайная величина выборки взята из генеральной совокупности с другим распределением"
   ]
  },
  {
   "cell_type": "code",
   "execution_count": 38,
   "metadata": {},
   "outputs": [
    {
     "data": {
      "text/plain": [
       "KstestResult(statistic=0.9960423069313241, pvalue=0.0)"
      ]
     },
     "execution_count": 38,
     "metadata": {},
     "output_type": "execute_result"
    }
   ],
   "source": [
    "# Нормальное распределение для контрольной выборки\n",
    "stats.kstest(control_sum, 'norm')"
   ]
  },
  {
   "cell_type": "code",
   "execution_count": 39,
   "metadata": {},
   "outputs": [
    {
     "data": {
      "text/plain": [
       "KstestResult(statistic=0.9916670995681639, pvalue=0.0)"
      ]
     },
     "execution_count": 39,
     "metadata": {},
     "output_type": "execute_result"
    }
   ],
   "source": [
    "# Нормальное распределение для тестовой выборки\n",
    "stats.kstest(test_sum, 'norm')"
   ]
  },
  {
   "cell_type": "markdown",
   "metadata": {},
   "source": [
    "Построим $QQ-plot$"
   ]
  },
  {
   "cell_type": "code",
   "execution_count": 46,
   "metadata": {},
   "outputs": [
    {
     "data": {
      "image/png": "[encoded data removed]",
      "text/plain": [
       "<Figure size 1080x360 with 2 Axes>"
      ]
     },
     "metadata": {
      "needs_background": "light"
     },
     "output_type": "display_data"
    }
   ],
   "source": [
    "plt.figure(figsize=(15,5))\n",
    "plt.subplot(2,2,1)\n",
    "stats.probplot(control_sum, dist=\"norm\", plot=plt)\n",
    "plt.title('QQ-plot для контрольной выборки')\n",
    "plt.subplot(2,2,2)\n",
    "stats.probplot(test_sum, dist=\"norm\", plot=plt)\n",
    "plt.title('QQ-plot для тестовой выборки')\n",
    "plt.show()"
   ]
  },
  {
   "cell_type": "markdown",
   "metadata": {},
   "source": [
    "Отвергаем гипотезу о нормальном распределении выборок. И Тест Колмогорова-Смирнова и $QQ-plot$ и визуализация гистограммы распределения очевидно свидетельствуют о том, что распределения не нормальные. Значит нельзя использовать тесты, чувствительные к нормальности"
   ]
  },
  {
   "cell_type": "markdown",
   "metadata": {},
   "source": [
    "Будем использовать ранговый критерий **Манна-Уитни**"
   ]
  },
  {
   "cell_type": "markdown",
   "metadata": {},
   "source": [
    "Нулевая гипотеза: $H_0$ : $F_{X1} (x) = F_{X2} (x)$ ;\\\n",
    "Альтернатива: $H_1$ : $F_{X1} (x) = F_{X2} (x + \\Delta)$ ; $\\Delta > 0$;\\\n",
    "В задаче прямо указывается, что надо проверять альтернативу увеличения суммы чека"
   ]
  },
  {
   "cell_type": "code",
   "execution_count": 62,
   "metadata": {},
   "outputs": [
    {
     "data": {
      "text/plain": [
       "MannwhitneyuResult(statistic=50943.0, pvalue=0.0024922812779452318)"
      ]
     },
     "execution_count": 62,
     "metadata": {},
     "output_type": "execute_result"
    }
   ],
   "source": [
    "stats.mannwhitneyu(test_sum, control_sum, alternative ='greater')"
   ]
  },
  {
   "cell_type": "markdown",
   "metadata": {},
   "source": [
    "На уровне значимости $\\alpha = 0.01$ можно отвергуть нулевую гипотезу, что выборки относятся к одному распределению. Можно полагать, что мероприятия по увеличению суммы чека оказались успешными"
   ]
  },
  {
   "cell_type": "markdown",
   "metadata": {},
   "source": [
    "### Задание 3"
   ]
  },
  {
   "cell_type": "markdown",
   "metadata": {},
   "source": [
    "В файле **test_3.csv** лежит результат теста рассылки email, целевая метрика - конверсия в переход на сайт с этого email. \n",
    "\n",
    "Изучите результаты теста и сделайте вывод , увеличилась конверсия или нет. В качестве решения - ноутбук, в котором построено распределение параметра в группах и проверены нужные критерии."
   ]
  },
  {
   "cell_type": "code",
   "execution_count": 63,
   "metadata": {},
   "outputs": [
    {
     "name": "stdout",
     "output_type": "stream",
     "text": [
      "<class 'pandas.core.frame.DataFrame'>\n",
      "RangeIndex: 20033 entries, 0 to 20032\n",
      "Data columns (total 3 columns):\n",
      "group        20033 non-null object\n",
      "client_id    20033 non-null int64\n",
      "click_flg    20033 non-null int64\n",
      "dtypes: int64(2), object(1)\n",
      "memory usage: 469.6+ KB\n"
     ]
    }
   ],
   "source": [
    "# Загрузим данные\n",
    "data3 = pd.read_csv('test_3.csv')\n",
    "data3.info()"
   ]
  },
  {
   "cell_type": "code",
   "execution_count": 64,
   "metadata": {},
   "outputs": [
    {
     "data": {
      "text/html": [
       "<div>\n",
       "<style scoped>\n",
       "    .dataframe tbody tr th:only-of-type {\n",
       "        vertical-align: middle;\n",
       "    }\n",
       "\n",
       "    .dataframe tbody tr th {\n",
       "        vertical-align: top;\n",
       "    }\n",
       "\n",
       "    .dataframe thead th {\n",
       "        text-align: right;\n",
       "    }\n",
       "</style>\n",
       "<table border=\"1\" class=\"dataframe\">\n",
       "  <thead>\n",
       "    <tr style=\"text-align: right;\">\n",
       "      <th></th>\n",
       "      <th>group</th>\n",
       "      <th>client_id</th>\n",
       "      <th>click_flg</th>\n",
       "    </tr>\n",
       "  </thead>\n",
       "  <tbody>\n",
       "    <tr>\n",
       "      <td>9225</td>\n",
       "      <td>test</td>\n",
       "      <td>9226</td>\n",
       "      <td>1</td>\n",
       "    </tr>\n",
       "    <tr>\n",
       "      <td>12572</td>\n",
       "      <td>control</td>\n",
       "      <td>12573</td>\n",
       "      <td>0</td>\n",
       "    </tr>\n",
       "    <tr>\n",
       "      <td>1302</td>\n",
       "      <td>test</td>\n",
       "      <td>1303</td>\n",
       "      <td>0</td>\n",
       "    </tr>\n",
       "    <tr>\n",
       "      <td>15106</td>\n",
       "      <td>control</td>\n",
       "      <td>15107</td>\n",
       "      <td>0</td>\n",
       "    </tr>\n",
       "    <tr>\n",
       "      <td>15897</td>\n",
       "      <td>control</td>\n",
       "      <td>15898</td>\n",
       "      <td>1</td>\n",
       "    </tr>\n",
       "    <tr>\n",
       "      <td>4754</td>\n",
       "      <td>test</td>\n",
       "      <td>4755</td>\n",
       "      <td>0</td>\n",
       "    </tr>\n",
       "    <tr>\n",
       "      <td>10474</td>\n",
       "      <td>control</td>\n",
       "      <td>10475</td>\n",
       "      <td>0</td>\n",
       "    </tr>\n",
       "    <tr>\n",
       "      <td>11814</td>\n",
       "      <td>control</td>\n",
       "      <td>11815</td>\n",
       "      <td>1</td>\n",
       "    </tr>\n",
       "    <tr>\n",
       "      <td>8051</td>\n",
       "      <td>test</td>\n",
       "      <td>8052</td>\n",
       "      <td>0</td>\n",
       "    </tr>\n",
       "    <tr>\n",
       "      <td>1620</td>\n",
       "      <td>test</td>\n",
       "      <td>1621</td>\n",
       "      <td>1</td>\n",
       "    </tr>\n",
       "  </tbody>\n",
       "</table>\n",
       "</div>"
      ],
      "text/plain": [
       "         group  client_id  click_flg\n",
       "9225      test       9226          1\n",
       "12572  control      12573          0\n",
       "1302      test       1303          0\n",
       "15106  control      15107          0\n",
       "15897  control      15898          1\n",
       "4754      test       4755          0\n",
       "10474  control      10475          0\n",
       "11814  control      11815          1\n",
       "8051      test       8052          0\n",
       "1620      test       1621          1"
      ]
     },
     "execution_count": 64,
     "metadata": {},
     "output_type": "execute_result"
    }
   ],
   "source": [
    "# Посмотрим, как они выглядят\n",
    "data3.sample(10)"
   ]
  },
  {
   "cell_type": "markdown",
   "metadata": {},
   "source": [
    "В этом задание биномиальное распределение"
   ]
  },
  {
   "cell_type": "code",
   "execution_count": 65,
   "metadata": {},
   "outputs": [
    {
     "data": {
      "text/plain": [
       "(20033,)"
      ]
     },
     "execution_count": 65,
     "metadata": {},
     "output_type": "execute_result"
    }
   ],
   "source": [
    "# Проверим, зависимые выборки или нет\n",
    "data3.client_id.unique().shape"
   ]
  },
  {
   "cell_type": "markdown",
   "metadata": {},
   "source": [
    "Выборки независимы, потому что количество уникальных id соответствует количеству записей."
   ]
  },
  {
   "cell_type": "code",
   "execution_count": 66,
   "metadata": {},
   "outputs": [
    {
     "data": {
      "text/plain": [
       "(10023,)"
      ]
     },
     "execution_count": 66,
     "metadata": {},
     "output_type": "execute_result"
    }
   ],
   "source": [
    "# Выделим таргет для тестовой группы\n",
    "test_click = data3[data3.group == 'test'].click_flg.to_numpy()\n",
    "test_click.shape"
   ]
  },
  {
   "cell_type": "code",
   "execution_count": 68,
   "metadata": {},
   "outputs": [
    {
     "data": {
      "text/plain": [
       "(10010,)"
      ]
     },
     "execution_count": 68,
     "metadata": {},
     "output_type": "execute_result"
    }
   ],
   "source": [
    "# Выделим таргет для контрольной группы\n",
    "control_click = data3[data3.group == 'control'].click_flg.to_numpy()\n",
    "control_click.shape"
   ]
  },
  {
   "cell_type": "markdown",
   "metadata": {},
   "source": [
    "Построим графики распределения"
   ]
  },
  {
   "cell_type": "code",
   "execution_count": 71,
   "metadata": {},
   "outputs": [
    {
     "data": {
      "image/png": "[encoded data removed]",
      "text/plain": [
       "<Figure size 1080x360 with 1 Axes>"
      ]
     },
     "metadata": {
      "needs_background": "light"
     },
     "output_type": "display_data"
    }
   ],
   "source": [
    "plt.figure(figsize=(15,5))\n",
    "plt.hist(control_click, bins=5, density=True, color='blue', alpha=0.7, label ='контрольная выборка')\n",
    "plt.hist(test_click, bins=5, density=True, color='red', alpha=0.7, label ='тестовая выборка')\n",
    "plt.legend()\n",
    "plt.title('Распределение суммы чека в контрольной и тестовой выборках')\n",
    "plt.xlabel('Сумма чека')\n",
    "plt.ylabel('Частота')\n",
    "plt.show()"
   ]
  },
  {
   "cell_type": "markdown",
   "metadata": {},
   "source": [
    "Распределения очень похожи."
   ]
  },
  {
   "cell_type": "markdown",
   "metadata": {},
   "source": [
    "Нам подходит Z-критерий для 2-х долей. Будем проверять одностороннюю гипотезу (увеличилась конверсия или нет). В тексте задачи явно не сказано, были ли проведены мероприятия по увеличению конверсии"
   ]
  },
  {
   "cell_type": "markdown",
   "metadata": {},
   "source": [
    "нулевая гипотеза: $H_0$ : $p_1 = p_2$;\\\n",
    "альтернатива: $H_1$ : $p_1 \\neq p_2$;\n",
    "\n",
    " Исход | $X_1$ | $X_2$  \n",
    " ------------- | ------------- | -------------|\n",
    "  1  | a  | b \n",
    "  0  | c  | d \n",
    "  $\\sum$  | $n_1$ | $n_2$ \n",
    "  \n",
    "$$ \\hat{p}_1 = \\frac{a}{n_1}$$\n",
    "\n",
    "$$ \\hat{p}_2 = \\frac{b}{n_2}$$\n",
    "\n",
    "$$P = \\frac{\\hat{p}_1{n_1} + \\hat{p}_2{n_2}}{{n_1} + {n_2}} $$  \n",
    "\n",
    "$$Z-статистика: Z({X_1, X_2}) =  \\frac{\\hat{p}_1 - \\hat{p}_2}{\\sqrt{P(1 - P)(\\frac{1}{n_1} + \\frac{1}{n_2})}}$$\n"
   ]
  },
  {
   "cell_type": "code",
   "execution_count": 76,
   "metadata": {},
   "outputs": [
    {
     "data": {
      "text/plain": [
       "2.595183244634136"
      ]
     },
     "execution_count": 76,
     "metadata": {},
     "output_type": "execute_result"
    }
   ],
   "source": [
    "# Аккуратно посчитаем Z-статистику\n",
    "n1 = control_click.shape[0]\n",
    "n2 = test_click.shape[0]\n",
    "p1 = np.sum(control_click) / n1\n",
    "p2 = np.sum(test_click) / n2\n",
    "P = (np.sum(control_click) + np.sum(test_click)) / (n1 + n2)\n",
    "Z_stat = (p1 - p2)/np.sqrt(P*(1-P)*(1 / n1 + 1 / n2))\n",
    "Z_stat"
   ]
  },
  {
   "cell_type": "code",
   "execution_count": 80,
   "metadata": {},
   "outputs": [
    {
     "name": "stdout",
     "output_type": "stream",
     "text": [
      "p_value two-sided 0.0047270250062207975\n"
     ]
    }
   ],
   "source": [
    "p_value = 1 - stats.norm.cdf(Z_stat)\n",
    "print('p_value two-sided', p_value)"
   ]
  },
  {
   "cell_type": "markdown",
   "metadata": {},
   "source": [
    "На уровне значимости $\\alpha = 0.01$ можно отклонить нулевую гипотезу. Значит конверсия увеличилась"
   ]
  }
 ],
 "metadata": {
  "kernelspec": {
   "display_name": "Python 3",
   "language": "python",
   "name": "python3"
  },
  "language_info": {
   "codemirror_mode": {
    "name": "ipython",
    "version": 3
   },
   "file_extension": ".py",
   "mimetype": "text/x-python",
   "name": "python",
   "nbconvert_exporter": "python",
   "pygments_lexer": "ipython3",
   "version": "3.7.4"
  }
 },
 "nbformat": 4,
 "nbformat_minor": 2
}
